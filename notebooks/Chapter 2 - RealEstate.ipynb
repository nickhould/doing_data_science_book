{
 "metadata": {
  "name": "",
  "signature": "sha256:3ed61144c158a89625eb33ff8e46563e2a3e9aef4a9d88366db92e579e79273e"
 },
 "nbformat": 3,
 "nbformat_minor": 0,
 "worksheets": [
  {
   "cells": [
    {
     "cell_type": "code",
     "collapsed": false,
     "input": [
      "import pandas as pd\n",
      "import numpy as np\n",
      "import matplotlib.pyplot as plt\n",
      "%matplotlib inline  "
     ],
     "language": "python",
     "metadata": {},
     "outputs": [],
     "prompt_number": 1
    },
    {
     "cell_type": "code",
     "collapsed": false,
     "input": [
      "def load_rollingsales_data(filename):\n",
      "    df = pd.read_excel(\"/Users/nickhould/Dropbox/Code/doing_data_science/data/\"+filename, columns=[])\n",
      "    df.columns = df.iloc[3]\n",
      "    df = df.ix[4:]\n",
      "    return df\n",
      "\n",
      "def load_rollingsales_file_list(file_list, dfs=None):\n",
      "    for filename in file_list:\n",
      "        new_df = load_rollingsales_data(filename)\n",
      "        if type(dfs) is type(None):\n",
      "            dfs = new_df\n",
      "        else:\n",
      "            dfs = dfs.append(new_df)\n",
      "    return dfs"
     ],
     "language": "python",
     "metadata": {},
     "outputs": [],
     "prompt_number": 111
    },
    {
     "cell_type": "code",
     "collapsed": false,
     "input": [
      "file_list = [ \n",
      "\"rollingsales_bronx.xls\",\n",
      "\"rollingsales_brooklyn.xls\",\n",
      "\"rollingsales_manhattan.xls\",\n",
      "\"rollingsales_queens.xls\",\n",
      "\"rollingsales_statenisland.xls\",\n",
      "]"
     ],
     "language": "python",
     "metadata": {},
     "outputs": [],
     "prompt_number": 112
    },
    {
     "cell_type": "code",
     "collapsed": false,
     "input": [
      "df = load_rollingsales_file_list(file_list)"
     ],
     "language": "python",
     "metadata": {},
     "outputs": [],
     "prompt_number": 113
    },
    {
     "cell_type": "code",
     "collapsed": false,
     "input": [
      "df.count()"
     ],
     "language": "python",
     "metadata": {},
     "outputs": [
      {
       "metadata": {},
       "output_type": "pyout",
       "prompt_number": 114,
       "text": [
        "3\n",
        "BOROUGH                           85975\n",
        "NEIGHBORHOOD                      85975\n",
        "BUILDING CLASS CATEGORY           85975\n",
        "TAX CLASS AT PRESENT              85975\n",
        "BLOCK                             85975\n",
        "LOT                               85975\n",
        "EASE-MENT                         85975\n",
        "BUILDING CLASS AT PRESENT         85975\n",
        "ADDRESS                           85975\n",
        "APART\\nMENT\\nNUMBER               85975\n",
        "ZIP CODE                          85975\n",
        "RESIDENTIAL UNITS                 85975\n",
        "COMMERCIAL UNITS                  85975\n",
        "TOTAL UNITS                       85975\n",
        "LAND SQUARE FEET                  85975\n",
        "GROSS SQUARE FEET                 85975\n",
        "YEAR BUILT                        85975\n",
        "TAX CLASS AT TIME OF SALE         85975\n",
        "BUILDING CLASS AT TIME OF SALE    85975\n",
        "SALE\\nPRICE                       85975\n",
        "SALE DATE                         85975\n",
        "dtype: int64"
       ]
      }
     ],
     "prompt_number": 114
    },
    {
     "cell_type": "code",
     "collapsed": false,
     "input": [],
     "language": "python",
     "metadata": {},
     "outputs": []
    }
   ],
   "metadata": {}
  }
 ]
}