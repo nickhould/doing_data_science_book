{
 "metadata": {
  "name": "",
  "signature": "sha256:5f76df1660a1dc6e46158f50ed69d17bbd0e019b006c403b56c3fa6100d5bec2"
 },
 "nbformat": 3,
 "nbformat_minor": 0,
 "worksheets": [
  {
   "cells": [
    {
     "cell_type": "markdown",
     "metadata": {},
     "source": [
      "# Exercise: EDA"
     ]
    },
    {
     "cell_type": "code",
     "collapsed": false,
     "input": [
      "import pandas as pd\n",
      "import numpy as np\n",
      "import matplotlib.pyplot as plt\n",
      "%matplotlib inline  "
     ],
     "language": "python",
     "metadata": {},
     "outputs": [],
     "prompt_number": 1
    },
    {
     "cell_type": "code",
     "collapsed": false,
     "input": [
      "df = pd.DataFrame.from_csv(\"/Users/nickhould/Dropbox/Code/doing_data_science/data/nyt1.csv\")\n",
      "df = df.reset_index()"
     ],
     "language": "python",
     "metadata": {},
     "outputs": [],
     "prompt_number": 2
    },
    {
     "cell_type": "markdown",
     "metadata": {},
     "source": [
      "## Data Description"
     ]
    },
    {
     "cell_type": "code",
     "collapsed": false,
     "input": [
      "df.columns"
     ],
     "language": "python",
     "metadata": {},
     "outputs": [
      {
       "metadata": {},
       "output_type": "pyout",
       "prompt_number": 3,
       "text": [
        "Index([u'Age', u'Gender', u'Impressions', u'Clicks', u'Signed_In'], dtype='object')"
       ]
      }
     ],
     "prompt_number": 3
    },
    {
     "cell_type": "code",
     "collapsed": false,
     "input": [
      "df.describe()"
     ],
     "language": "python",
     "metadata": {},
     "outputs": [
      {
       "html": [
        "<div style=\"max-height:1000px;max-width:1500px;overflow:auto;\">\n",
        "<table border=\"1\" class=\"dataframe\">\n",
        "  <thead>\n",
        "    <tr style=\"text-align: right;\">\n",
        "      <th></th>\n",
        "      <th>Age</th>\n",
        "      <th>Gender</th>\n",
        "      <th>Impressions</th>\n",
        "      <th>Clicks</th>\n",
        "      <th>Signed_In</th>\n",
        "    </tr>\n",
        "  </thead>\n",
        "  <tbody>\n",
        "    <tr>\n",
        "      <th>count</th>\n",
        "      <td> 458441.000000</td>\n",
        "      <td> 458441.000000</td>\n",
        "      <td> 458441.000000</td>\n",
        "      <td> 458441.000000</td>\n",
        "      <td> 458441.000000</td>\n",
        "    </tr>\n",
        "    <tr>\n",
        "      <th>mean</th>\n",
        "      <td>     29.482551</td>\n",
        "      <td>      0.367037</td>\n",
        "      <td>      5.007316</td>\n",
        "      <td>      0.092594</td>\n",
        "      <td>      0.700930</td>\n",
        "    </tr>\n",
        "    <tr>\n",
        "      <th>std</th>\n",
        "      <td>     23.607034</td>\n",
        "      <td>      0.481997</td>\n",
        "      <td>      2.239349</td>\n",
        "      <td>      0.309973</td>\n",
        "      <td>      0.457851</td>\n",
        "    </tr>\n",
        "    <tr>\n",
        "      <th>min</th>\n",
        "      <td>      0.000000</td>\n",
        "      <td>      0.000000</td>\n",
        "      <td>      0.000000</td>\n",
        "      <td>      0.000000</td>\n",
        "      <td>      0.000000</td>\n",
        "    </tr>\n",
        "    <tr>\n",
        "      <th>25%</th>\n",
        "      <td>      0.000000</td>\n",
        "      <td>      0.000000</td>\n",
        "      <td>      3.000000</td>\n",
        "      <td>      0.000000</td>\n",
        "      <td>      0.000000</td>\n",
        "    </tr>\n",
        "    <tr>\n",
        "      <th>50%</th>\n",
        "      <td>     31.000000</td>\n",
        "      <td>      0.000000</td>\n",
        "      <td>      5.000000</td>\n",
        "      <td>      0.000000</td>\n",
        "      <td>      1.000000</td>\n",
        "    </tr>\n",
        "    <tr>\n",
        "      <th>75%</th>\n",
        "      <td>     48.000000</td>\n",
        "      <td>      1.000000</td>\n",
        "      <td>      6.000000</td>\n",
        "      <td>      0.000000</td>\n",
        "      <td>      1.000000</td>\n",
        "    </tr>\n",
        "    <tr>\n",
        "      <th>max</th>\n",
        "      <td>    108.000000</td>\n",
        "      <td>      1.000000</td>\n",
        "      <td>     20.000000</td>\n",
        "      <td>      4.000000</td>\n",
        "      <td>      1.000000</td>\n",
        "    </tr>\n",
        "  </tbody>\n",
        "</table>\n",
        "</div>"
       ],
       "metadata": {},
       "output_type": "pyout",
       "prompt_number": 4,
       "text": [
        "                 Age         Gender    Impressions         Clicks  \\\n",
        "count  458441.000000  458441.000000  458441.000000  458441.000000   \n",
        "mean       29.482551       0.367037       5.007316       0.092594   \n",
        "std        23.607034       0.481997       2.239349       0.309973   \n",
        "min         0.000000       0.000000       0.000000       0.000000   \n",
        "25%         0.000000       0.000000       3.000000       0.000000   \n",
        "50%        31.000000       0.000000       5.000000       0.000000   \n",
        "75%        48.000000       1.000000       6.000000       0.000000   \n",
        "max       108.000000       1.000000      20.000000       4.000000   \n",
        "\n",
        "           Signed_In  \n",
        "count  458441.000000  \n",
        "mean        0.700930  \n",
        "std         0.457851  \n",
        "min         0.000000  \n",
        "25%         0.000000  \n",
        "50%         1.000000  \n",
        "75%         1.000000  \n",
        "max         1.000000  "
       ]
      }
     ],
     "prompt_number": 4
    },
    {
     "cell_type": "markdown",
     "metadata": {},
     "source": [
      "## Create `age_group` variable"
     ]
    },
    {
     "cell_type": "code",
     "collapsed": false,
     "input": [
      "def set_age_group(age):\n",
      "    if age < 18:\n",
      "        return \"<18\"\n",
      "    elif 18 <= age <= 24:\n",
      "        return \"18-24\"\n",
      "    elif 25 <= age <= 34:\n",
      "        return \"25-34\"\n",
      "    elif 35 <= age <= 44:\n",
      "        return \"35-44\"\n",
      "    elif 45 <= age <= 54:\n",
      "        return \"45-54\"\n",
      "    elif 55 <= age <= 64:\n",
      "        return \"55-64\"\n",
      "    elif age >= 65:\n",
      "        return \"65+\"\n",
      "df[\"age_group\"] = df[\"Age\"].apply(set_age_group)"
     ],
     "language": "python",
     "metadata": {},
     "outputs": [],
     "prompt_number": 5
    },
    {
     "cell_type": "markdown",
     "metadata": {},
     "source": [
      "### Define `click_through_rate`"
     ]
    },
    {
     "cell_type": "code",
     "collapsed": false,
     "input": [
      "age_groups = df.groupby([\"age_group\"]).sum()[[\"Impressions\",\"Clicks\"]]"
     ],
     "language": "python",
     "metadata": {},
     "outputs": [],
     "prompt_number": 6
    },
    {
     "cell_type": "code",
     "collapsed": false,
     "input": [
      "age_groups[\"click_through_rate\"] = age_groups[\"Clicks\"] / age_groups[\"Impressions\"]"
     ],
     "language": "python",
     "metadata": {},
     "outputs": [],
     "prompt_number": 7
    },
    {
     "cell_type": "code",
     "collapsed": false,
     "input": [
      "sorted_age_groups = [\"<18\", \"18-24\", \"25-34\", \"35-44\", \"45-54\", \"55-64\", \"65+\"]"
     ],
     "language": "python",
     "metadata": {},
     "outputs": [],
     "prompt_number": 8
    },
    {
     "cell_type": "markdown",
     "metadata": {},
     "source": [
      "## `Impressions` by `age_group`"
     ]
    },
    {
     "cell_type": "code",
     "collapsed": false,
     "input": [
      "age_groups[\"Impressions\"].plot(kind=\"bar\")"
     ],
     "language": "python",
     "metadata": {},
     "outputs": [
      {
       "metadata": {},
       "output_type": "pyout",
       "prompt_number": 9,
       "text": [
        "<matplotlib.axes.AxesSubplot at 0x108d00410>"
       ]
      },
      {
       "metadata": {},
       "output_type": "display_data",
       "png": "[encoded data removed]",
       "text": [
        "<matplotlib.figure.Figure at 0x10443d210>"
       ]
      }
     ],
     "prompt_number": 9
    },
    {
     "cell_type": "markdown",
     "metadata": {},
     "source": [
      "## `click_through_rate` by `age_group`"
     ]
    },
    {
     "cell_type": "code",
     "collapsed": false,
     "input": [
      "age_groups[\"click_through_rate\"].plot(kind=\"bar\")"
     ],
     "language": "python",
     "metadata": {},
     "outputs": [
      {
       "metadata": {},
       "output_type": "pyout",
       "prompt_number": 10,
       "text": [
        "<matplotlib.axes.AxesSubplot at 0x10768cf10>"
       ]
      },
      {
       "metadata": {},
       "output_type": "display_data",
       "png": "[encoded data removed]",
       "text": [
        "<matplotlib.figure.Figure at 0x108c56290>"
       ]
      }
     ],
     "prompt_number": 10
    },
    {
     "cell_type": "markdown",
     "metadata": {},
     "source": [
      "## CTR Groups"
     ]
    },
    {
     "cell_type": "markdown",
     "metadata": {},
     "source": [
      "    In order to create interesting groups, let's take a look at the distribution of `click_through_rates`"
     ]
    },
    {
     "cell_type": "code",
     "collapsed": false,
     "input": [
      "df[\"click_through_rate\"] = df[\"Clicks\"] / df[\"Impressions\"]\n",
      "df[\"click_through_rate\"] = df[\"click_through_rate\"].replace([np.inf, np.nan], 0)\n",
      "sorted_ctrs = df.sort(columns=[\"click_through_rate\"], ascending=[1])\n",
      "sorted_ctrs[[\"click_through_rate\"]].describe()"
     ],
     "language": "python",
     "metadata": {},
     "outputs": [
      {
       "html": [
        "<div style=\"max-height:1000px;max-width:1500px;overflow:auto;\">\n",
        "<table border=\"1\" class=\"dataframe\">\n",
        "  <thead>\n",
        "    <tr style=\"text-align: right;\">\n",
        "      <th></th>\n",
        "      <th>click_through_rate</th>\n",
        "    </tr>\n",
        "  </thead>\n",
        "  <tbody>\n",
        "    <tr>\n",
        "      <th>count</th>\n",
        "      <td> 458441.000000</td>\n",
        "    </tr>\n",
        "    <tr>\n",
        "      <th>mean</th>\n",
        "      <td>      0.018347</td>\n",
        "    </tr>\n",
        "    <tr>\n",
        "      <th>std</th>\n",
        "      <td>      0.068820</td>\n",
        "    </tr>\n",
        "    <tr>\n",
        "      <th>min</th>\n",
        "      <td>      0.000000</td>\n",
        "    </tr>\n",
        "    <tr>\n",
        "      <th>25%</th>\n",
        "      <td>      0.000000</td>\n",
        "    </tr>\n",
        "    <tr>\n",
        "      <th>50%</th>\n",
        "      <td>      0.000000</td>\n",
        "    </tr>\n",
        "    <tr>\n",
        "      <th>75%</th>\n",
        "      <td>      0.000000</td>\n",
        "    </tr>\n",
        "    <tr>\n",
        "      <th>max</th>\n",
        "      <td>      1.000000</td>\n",
        "    </tr>\n",
        "  </tbody>\n",
        "</table>\n",
        "</div>"
       ],
       "metadata": {},
       "output_type": "pyout",
       "prompt_number": 11,
       "text": [
        "       click_through_rate\n",
        "count       458441.000000\n",
        "mean             0.018347\n",
        "std              0.068820\n",
        "min              0.000000\n",
        "25%              0.000000\n",
        "50%              0.000000\n",
        "75%              0.000000\n",
        "max              1.000000"
       ]
      }
     ],
     "prompt_number": 11
    },
    {
     "cell_type": "code",
     "collapsed": false,
     "input": [
      "sorted_ctrs = sorted_ctrs.reset_index()\n",
      "sorted_ctrs[[\"click_through_rate\"]].plot()"
     ],
     "language": "python",
     "metadata": {},
     "outputs": [
      {
       "metadata": {},
       "output_type": "pyout",
       "prompt_number": 12,
       "text": [
        "<matplotlib.axes.AxesSubplot at 0x107e237d0>"
       ]
      },
      {
       "metadata": {},
       "output_type": "display_data",
       "png": "[encoded data removed]",
       "text": [
        "<matplotlib.figure.Figure at 0x10763e450>"
       ]
      }
     ],
     "prompt_number": 12
    },
    {
     "cell_type": "markdown",
     "metadata": {},
     "source": [
      "### sorted_ctrs[]"
     ]
    },
    {
     "cell_type": "code",
     "collapsed": false,
     "input": [
      "nonnull = sorted_ctrs[sorted_ctrs[\"click_through_rate\"] > 0 ]\n",
      "nonnull[[\"click_through_rate\"]].describe()"
     ],
     "language": "python",
     "metadata": {},
     "outputs": [
      {
       "html": [
        "<div style=\"max-height:1000px;max-width:1500px;overflow:auto;\">\n",
        "<table border=\"1\" class=\"dataframe\">\n",
        "  <thead>\n",
        "    <tr style=\"text-align: right;\">\n",
        "      <th></th>\n",
        "      <th>click_through_rate</th>\n",
        "    </tr>\n",
        "  </thead>\n",
        "  <tbody>\n",
        "    <tr>\n",
        "      <th>count</th>\n",
        "      <td> 39838.000000</td>\n",
        "    </tr>\n",
        "    <tr>\n",
        "      <th>mean</th>\n",
        "      <td>     0.211131</td>\n",
        "    </tr>\n",
        "    <tr>\n",
        "      <th>std</th>\n",
        "      <td>     0.117472</td>\n",
        "    </tr>\n",
        "    <tr>\n",
        "      <th>min</th>\n",
        "      <td>     0.058824</td>\n",
        "    </tr>\n",
        "    <tr>\n",
        "      <th>25%</th>\n",
        "      <td>     0.142857</td>\n",
        "    </tr>\n",
        "    <tr>\n",
        "      <th>50%</th>\n",
        "      <td>     0.166667</td>\n",
        "    </tr>\n",
        "    <tr>\n",
        "      <th>75%</th>\n",
        "      <td>     0.250000</td>\n",
        "    </tr>\n",
        "    <tr>\n",
        "      <th>max</th>\n",
        "      <td>     1.000000</td>\n",
        "    </tr>\n",
        "  </tbody>\n",
        "</table>\n",
        "</div>"
       ],
       "metadata": {},
       "output_type": "pyout",
       "prompt_number": 13,
       "text": [
        "       click_through_rate\n",
        "count        39838.000000\n",
        "mean             0.211131\n",
        "std              0.117472\n",
        "min              0.058824\n",
        "25%              0.142857\n",
        "50%              0.166667\n",
        "75%              0.250000\n",
        "max              1.000000"
       ]
      }
     ],
     "prompt_number": 13
    },
    {
     "cell_type": "code",
     "collapsed": false,
     "input": [
      "nonnull = nonnull.sort(columns=[\"click_through_rate\"], ascending=[1])\n",
      "nonnull = nonnull.reset_index()\n",
      "nonnull[[\"click_through_rate\"]].plot()"
     ],
     "language": "python",
     "metadata": {},
     "outputs": [
      {
       "metadata": {},
       "output_type": "pyout",
       "prompt_number": 14,
       "text": [
        "<matplotlib.axes.AxesSubplot at 0x108868210>"
       ]
      },
      {
       "metadata": {},
       "output_type": "display_data",
       "png": "[encoded data removed]",
       "text": [
        "<matplotlib.figure.Figure at 0x108a05650>"
       ]
      }
     ],
     "prompt_number": 14
    },
    {
     "cell_type": "code",
     "collapsed": false,
     "input": [
      "def set_ctr_groups(ctr):\n",
      "    if ctr == 0:\n",
      "        return \"null\"\n",
      "    elif ctr <= 0.142857:\n",
      "        return \"25%\"\n",
      "    elif 0.142857 <= ctr <= 0.166667:\n",
      "        return \"50%\"\n",
      "    elif 0.166667 <= ctr <= 0.250000:\n",
      "        return \"75%\"\n",
      "    elif 0.166667 <= ctr <= 0.250000:\n",
      "        return \"100%\"\n",
      "    \n",
      "df[\"ctr_groups\"] = df[\"click_through_rate\"].apply(set_ctr_groups)"
     ],
     "language": "python",
     "metadata": {},
     "outputs": [],
     "prompt_number": 29
    },
    {
     "cell_type": "code",
     "collapsed": false,
     "input": [
      "df"
     ],
     "language": "python",
     "metadata": {},
     "outputs": []
    }
   ],
   "metadata": {}
  }
 ]
}